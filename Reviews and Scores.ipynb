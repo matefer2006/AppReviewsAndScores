{
 "cells": [
  {
   "cell_type": "code",
   "execution_count": null,
   "metadata": {
    "application/vnd.databricks.v1+cell": {
     "cellMetadata": {
      "byteLimit": 2048000,
      "rowLimit": 10000
     },
     "inputWidgets": {},
     "nuid": "7a331dae-606c-495a-a29b-3fe328cf58d5",
     "showTitle": false,
     "tableResultSettingsMap": {},
     "title": ""
    }
   },
   "outputs": [],
   "source": [
    "import pandas as pd\n",
    "import numpy as np\n",
    "import requests\n",
    "import json\n",
    "import matplotlib.pyplot as plt\n",
    "from google_play_scraper import app, Sort, reviews_all, search\n",
    "from app_store_scraper import AppStore\n",
    "# from itunes_app_scraper.scraper import AppStoreScraper\n",
    "import pyodbc as odbc\n",
    "import sys\n",
    "import openai\n",
    "from bs4 import BeautifulSoup\n",
    "from pyspark.sql import SparkSession\n",
    "import openpyxl"
   ]
  },
  {
   "attachments": {},
   "cell_type": "markdown",
   "metadata": {
    "application/vnd.databricks.v1+cell": {
     "cellMetadata": {
      "byteLimit": 2048000,
      "rowLimit": 10000
     },
     "inputWidgets": {},
     "nuid": "24fb58dc-56da-4b36-85b2-1bdf8fcf4edf",
     "showTitle": false,
     "tableResultSettingsMap": {},
     "title": ""
    }
   },
   "source": [
    "# Load Support Data"
   ]
  },
  {
   "cell_type": "code",
   "execution_count": null,
   "metadata": {
    "application/vnd.databricks.v1+cell": {
     "cellMetadata": {
      "byteLimit": 2048000,
      "rowLimit": 10000
     },
     "inputWidgets": {},
     "nuid": "387b8d62-4265-4eaf-bf4c-6f67e4a6a6d7",
     "showTitle": false,
     "tableResultSettingsMap": {},
     "title": ""
    }
   },
   "outputs": [
    {
     "name": "stdout",
     "output_type": "stream",
     "text": [
      "Mounted /mnt/appsprodversion successfully.\n",
      "appsprodversion file loaded successfully!\n",
      "/mnt/appsprodversion has been unmounted.\n"
     ]
    },
    {
     "data": {
      "text/plain": [
       "True"
      ]
     },
     "execution_count": 4,
     "metadata": {},
     "output_type": "execute_result"
    }
   ],
   "source": [
    "storage_account_name = \"storage_account_name\"\n",
    "container_name = \"container_name\"\n",
    "mount_point = \"/mnt/mount_point\"\n",
    "storage_account_key = \"storage_account_key\"\n",
    "\n",
    "# Check if already mounted\n",
    "if any(mount.mountPoint == mount_point for mount in dbutils.fs.mounts()):\n",
    "    print(f\"{mount_point} is already mounted.\")\n",
    "else:\n",
    "    # Mount the container\n",
    "    dbutils.fs.mount(\n",
    "        source=f\"wasbs://{container_name}@{storage_account_name}.blob.core.windows.net/\",\n",
    "        mount_point=mount_point,\n",
    "        extra_configs={f\"fs.azure.account.key.{storage_account_name}.blob.core.windows.net\": storage_account_key}\n",
    "    )\n",
    "    print(f\"Mounted {mount_point} successfully.\")\n",
    "\n",
    "# Correct file path with /dbfs prefix\n",
    "file_path = \"/dbfs/mnt/file_path.xlsx\"\n",
    "\n",
    "try:\n",
    "    # Read the Excel file into a Pandas DataFrame\n",
    "    Apps_file = pd.read_excel(file_path, sheet_name='sheet_name')\n",
    "    print(\"appsprodversion file loaded successfully!\")\n",
    "except Exception as e:\n",
    "    print(f\"Error loading appsprodversion file: {e}\")\n",
    "\n",
    "# Optionally unmount (if you want a clean workspace):\n",
    "dbutils.fs.unmount(mount_point)"
   ]
  },
  {
   "cell_type": "code",
   "execution_count": null,
   "metadata": {
    "application/vnd.databricks.v1+cell": {
     "cellMetadata": {
      "byteLimit": 2048000,
      "rowLimit": 10000
     },
     "inputWidgets": {},
     "nuid": "0e966fb1-b3c0-4c28-a728-02269569e65f",
     "showTitle": false,
     "tableResultSettingsMap": {},
     "title": ""
    }
   },
   "outputs": [],
   "source": [
    "# Use support file data\n",
    "Apps_file.fillna(\"\", inplace=True)\n",
    "\n",
    "countries = Apps_file['Tenant'].str[:2].to_list()\n",
    "countries = [x.lower() for x in countries]\n",
    "\n",
    "tenant = list(Apps_file['Tenant'])\n",
    "\n",
    "iOS_apps_names = []\n",
    "iOS_apps_ids = []\n",
    "for i in range(0, Apps_file.shape[0]):\n",
    "    link = Apps_file['Link Store iOS'][i]\n",
    "    if not \"N/A\" in link:\n",
    "        id_start = link.find(\"/id\") + 3  # Index after \"/id\"\n",
    "        id_end = link.find(\"?\", id_start)  # Find index of \"?\" after the ID\n",
    "        if id_end != -1:\n",
    "            # If \"?\" is found after the ID, extract the ID before \"?\"\n",
    "            app_id = link[id_start:id_end]\n",
    "        else:\n",
    "            # If \"?\" is not found, extract the ID till the end of the string\n",
    "            app_id = link[id_start:]\n",
    "        iOS_apps_names.append(link[link.find(\"app/\") + 4:link.find(\"/id\")])\n",
    "        iOS_apps_ids.append(app_id)\n",
    "    else:\n",
    "        iOS_apps_names.append(\"\")\n",
    "        iOS_apps_ids.append(\"\")\n",
    "\n",
    "Android_apps_names = []\n",
    "for i in range(0, Apps_file.shape[0]):\n",
    "    Android_apps_names.append(Apps_file['Link Store Android'][i][Apps_file['Link Store Android'][i].find(\"?id=\") + 4 : ])"
   ]
  },
  {
   "cell_type": "code",
   "execution_count": null,
   "metadata": {
    "application/vnd.databricks.v1+cell": {
     "cellMetadata": {
      "byteLimit": 2048000,
      "rowLimit": 10000
     },
     "inputWidgets": {},
     "nuid": "9b975faa-87b8-4e1a-ad0b-a329de8e881a",
     "showTitle": false,
     "tableResultSettingsMap": {},
     "title": ""
    }
   },
   "outputs": [],
   "source": [
    "# Load base data\n",
    "dw_jdbcHostname = \"server\"\n",
    "dw_jdbcPort = 1433\n",
    "dw_jdbcDatabase = \"database\"\n",
    "dw_aadUsername = \"username\"  # Your Azure AD user\n",
    "dw_aadPassword = \"password\"  # Your Azure AD password\n",
    "\n",
    "# JDBC URL format for SQL Server with Azure AD authentication\n",
    "dw_jdbcUrl = f\"jdbc:sqlserver://{dw_jdbcHostname}:{dw_jdbcPort};database={dw_jdbcDatabase};user={dw_aadUsername};password={dw_aadPassword}\""
   ]
  },
  {
   "cell_type": "code",
   "execution_count": null,
   "metadata": {
    "application/vnd.databricks.v1+cell": {
     "cellMetadata": {
      "byteLimit": 2048000,
      "rowLimit": 10000
     },
     "inputWidgets": {},
     "nuid": "c8d074d9-95b8-471f-8c82-70c90eb6dea9",
     "showTitle": false,
     "tableResultSettingsMap": {},
     "title": ""
    }
   },
   "outputs": [],
   "source": [
    "# Reviews base file query\n",
    "query_1 = \"\"\"SELECT * FROM [dbo].[ReviewsApps]\"\"\"\n",
    "\n",
    "# Load data using Spark JDBC for Reviews\n",
    "reviews_base_file = spark.read.format(\"jdbc\") \\\n",
    "    .option(\"url\", dw_jdbcUrl) \\\n",
    "    .option(\"query\", query_1) \\\n",
    "    .option(\"user\", dw_aadUsername) \\\n",
    "    .option(\"password\", dw_aadPassword) \\\n",
    "    .option(\"driver\", \"com.microsoft.sqlserver.jdbc.SQLServerDriver\") \\\n",
    "    .load()\n",
    "\n",
    "reviews_base_file = reviews_base_file.toPandas()\n",
    "\n",
    "# Ratings base file query\n",
    "query_2 = \"\"\"SELECT * FROM [dbo].[RatingsApps]\"\"\"\n",
    "\n",
    "# Load data using Spark JDBC for Ratings\n",
    "ratings_base_file = spark.read.format(\"jdbc\") \\\n",
    "    .option(\"url\", dw_jdbcUrl) \\\n",
    "    .option(\"query\", query_2) \\\n",
    "    .option(\"user\", dw_aadUsername) \\\n",
    "    .option(\"password\", dw_aadPassword) \\\n",
    "    .option(\"driver\", \"com.microsoft.sqlserver.jdbc.SQLServerDriver\") \\\n",
    "    .load()\n",
    "\n",
    "ratings_base_file = ratings_base_file.toPandas()"
   ]
  },
  {
   "cell_type": "code",
   "execution_count": null,
   "metadata": {
    "application/vnd.databricks.v1+cell": {
     "cellMetadata": {
      "byteLimit": 2048000,
      "rowLimit": 10000
     },
     "inputWidgets": {},
     "nuid": "1d74837b-8670-444e-be33-2d51b22d96c6",
     "showTitle": false,
     "tableResultSettingsMap": {},
     "title": ""
    }
   },
   "outputs": [],
   "source": [
    "# Update Reviews DB\n",
    "def convert_to_tuple(*args):\n",
    "    for x in args:\n",
    "        if not isinstance(x, list) and not isinstance(x, tuple):\n",
    "            return []\n",
    "    size = float(\"inf\")\n",
    "    for x in args:\n",
    "        size = min(size, len(x))\n",
    "    result = []\n",
    "    for i in range(size):\n",
    "        result.append(tuple([x[i] for x in args]))\n",
    "    return result"
   ]
  },
  {
   "attachments": {},
   "cell_type": "markdown",
   "metadata": {
    "application/vnd.databricks.v1+cell": {
     "cellMetadata": {
      "byteLimit": 2048000,
      "rowLimit": 10000
     },
     "inputWidgets": {},
     "nuid": "7ce33279-bdc7-40fe-bc32-9b66e4268de4",
     "showTitle": false,
     "tableResultSettingsMap": {},
     "title": ""
    }
   },
   "source": [
    "# Reviews"
   ]
  },
  {
   "cell_type": "code",
   "execution_count": null,
   "metadata": {
    "application/vnd.databricks.v1+cell": {
     "cellMetadata": {
      "byteLimit": 2048000,
      "rowLimit": 10000
     },
     "inputWidgets": {},
     "nuid": "a57a3dde-f8b9-44e9-93c3-382a5c777c8c",
     "showTitle": false,
     "tableResultSettingsMap": {},
     "title": ""
    }
   },
   "outputs": [],
   "source": [
    "# iOS\n",
    "iOS_reviews = pd.DataFrame()\n",
    "for i, app in enumerate(iOS_apps_names):   \n",
    "    try:\n",
    "        if app != '':\n",
    "            info = AppStore(country = countries[i], \n",
    "                            app_name = app,\n",
    "                            app_id = iOS_apps_ids[i])\n",
    "            \n",
    "            # Send a GET request to the URL\n",
    "            response = requests.get(info.url)\n",
    "\n",
    "            # Check if the request was successful (status code 200)\n",
    "            if response.status_code == 200:\n",
    "                soup = BeautifulSoup(response.content, 'html.parser')\n",
    "\n",
    "                # Find all elements containing the word \"userName\" in the text within review_elements\n",
    "                review_elements = soup.find_all(lambda tag: tag and \"userName\" in tag.text)\n",
    "\n",
    "                # If there are review elements found, proceed to fetch reviews using your function\n",
    "                if review_elements:                    \n",
    "                    info.review()   # how_many parameter setea cuantas reviews             \n",
    "                    \n",
    "                    reviews = pd.DataFrame(info.reviews)\n",
    "                    \n",
    "                    reviews['Tenant'] = tenant[i]\n",
    "                    reviews['reviewId'] = reviews['userName'].astype(str) + \"-\" + reviews['date'].astype(str)\n",
    "\n",
    "                    iOS_reviews = pd.concat([iOS_reviews, reviews])\n",
    "\n",
    "        else:\n",
    "            pass    \n",
    "    except:\n",
    "        pass\n",
    "\n",
    "iOS_reviews['channel'] = 'iOS'\n",
    "iOS_reviews['language'] = 'en'"
   ]
  },
  {
   "cell_type": "code",
   "execution_count": null,
   "metadata": {
    "application/vnd.databricks.v1+cell": {
     "cellMetadata": {
      "byteLimit": 2048000,
      "rowLimit": 10000
     },
     "inputWidgets": {},
     "nuid": "7ffb2f9c-f03d-4748-8eca-828710357fbd",
     "showTitle": false,
     "tableResultSettingsMap": {},
     "title": ""
    }
   },
   "outputs": [],
   "source": [
    "# ANDROID\n",
    "reviews_esp = pd.DataFrame()\n",
    "not_found_esp = 0\n",
    " \n",
    "for i, app in enumerate(Android_apps_names):\n",
    "    try:    \n",
    "        reviews = pd.DataFrame(reviews_all(\n",
    "            app,\n",
    "            sleep_milliseconds = 0, # defaults to 0\n",
    "            lang = 'es', # defaults to 'en'\n",
    "            country = countries[i], # defaults to 'us'\n",
    "            sort = Sort.NEWEST, # defaults to Sort.MOST_RELEVANT\n",
    "        ))\n",
    "        reviews['Tenant'] = tenant[i]\n",
    "        \n",
    "        reviews_esp = pd.concat([reviews_esp, reviews])\n",
    "\n",
    "    except:\n",
    "        not_found_esp = not_found_esp + 1\n",
    "        not_found_esp_Tenant = tenant[i]\n",
    "        pass\n",
    "\n",
    "reviews_esp['language'] = 'esp'\n",
    "\n",
    "\n",
    "reviews_eng = pd.DataFrame()\n",
    "not_found_eng = 0\n",
    "\n",
    "for i, app in enumerate(Android_apps_names):\n",
    "    try:    \n",
    "        reviews = pd.DataFrame(reviews_all(\n",
    "            app,\n",
    "            sleep_milliseconds = 0, # defaults to 0\n",
    "            lang = 'en', # defaults to 'en'\n",
    "            country = countries[i], # defaults to 'us'\n",
    "            sort = Sort.NEWEST, # defaults to Sort.MOST_RELEVANT\n",
    "        ))\n",
    "        reviews['Tenant'] = tenant[i]\n",
    "        \n",
    "        reviews_eng = pd.concat([reviews_eng, reviews])\n",
    "        \n",
    "    except:\n",
    "        not_found_eng = not_found_eng + 1\n",
    "        not_found_eng_Tenant = tenant[i]\n",
    "        pass \n",
    "\n",
    "reviews_eng['language'] = 'en'\n",
    "\n",
    "# Concat both datasets\n",
    "Android_reviews = pd.concat([reviews_esp, reviews_eng], ignore_index=True) \n",
    "\n",
    "# Channel column\n",
    "Android_reviews['channel'] = 'Android'\n",
    "Android_reviews.rename(columns={'at':'date', 'content':'review', 'score':'rating'}, inplace=True)\n",
    "Android_reviews = Android_reviews[['reviewId','date','review','rating','Tenant','channel','language']]\n",
    "\n",
    "Android_reviews.reset_index(inplace=True, drop=True)"
   ]
  },
  {
   "cell_type": "code",
   "execution_count": null,
   "metadata": {
    "application/vnd.databricks.v1+cell": {
     "cellMetadata": {
      "byteLimit": 2048000,
      "rowLimit": 10000
     },
     "inputWidgets": {},
     "nuid": "44817f9c-8f7a-4c6d-b8ae-151f17903465",
     "showTitle": false,
     "tableResultSettingsMap": {},
     "title": ""
    }
   },
   "outputs": [],
   "source": [
    "# Combine datasets\n",
    "reviews_total = pd.concat([iOS_reviews, Android_reviews])\n",
    "\n",
    "reviews_total = reviews_total[['reviewId','date','review','rating','Tenant','channel','language']]\n",
    "\n",
    "reviews_total.reset_index(drop=True, inplace=True)"
   ]
  },
  {
   "attachments": {},
   "cell_type": "markdown",
   "metadata": {
    "application/vnd.databricks.v1+cell": {
     "cellMetadata": {
      "byteLimit": 2048000,
      "rowLimit": 10000
     },
     "inputWidgets": {},
     "nuid": "b67dd1fc-c261-4642-a044-a86d0f8cb596",
     "showTitle": false,
     "tableResultSettingsMap": {},
     "title": ""
    }
   },
   "source": [
    "## Sentiment Analysis"
   ]
  },
  {
   "cell_type": "code",
   "execution_count": null,
   "metadata": {
    "application/vnd.databricks.v1+cell": {
     "cellMetadata": {
      "byteLimit": 2048000,
      "rowLimit": 10000
     },
     "inputWidgets": {},
     "nuid": "abe5427b-a29d-47de-a94f-c539a582deb3",
     "showTitle": false,
     "tableResultSettingsMap": {},
     "title": ""
    }
   },
   "outputs": [],
   "source": [
    "rows_to_delete = []\n",
    "for i, reviewId in enumerate(reviews_total['reviewId']):\n",
    "    if reviews_base_file['reviewId'].eq(str(reviewId)).any():\n",
    "       rows_to_delete.append(i) \n",
    "    else:\n",
    "        pass\n",
    "df_new_reviews = reviews_total.drop(rows_to_delete)\n",
    "df_new_reviews['sentiment'] = None\n",
    "\n",
    "df_new_reviews.reset_index(drop=True, inplace=True)"
   ]
  },
  {
   "cell_type": "code",
   "execution_count": null,
   "metadata": {
    "application/vnd.databricks.v1+cell": {
     "cellMetadata": {
      "byteLimit": 2048000,
      "rowLimit": 10000
     },
     "inputWidgets": {},
     "nuid": "cdfe6f35-ee29-48f7-a340-27e6dacb16c5",
     "showTitle": false,
     "tableResultSettingsMap": {},
     "title": ""
    }
   },
   "outputs": [],
   "source": [
    "# openai==0.28\n",
    "openai.api_key = \"api_key\"\n",
    "\n",
    "# Define a function to classify a review\n",
    "def classify_review(review):\n",
    "    response = openai.Completion.create(\n",
    "        model=\"gpt-3.5-turbo-instruct\",\n",
    "        prompt=f\"Classify the sentiment in this review in 'Positive' and 'Negative'. Just one of this two categories and nothing else:\\n \\\"{review}\\\"\",\n",
    "        temperature=0,\n",
    "        max_tokens=60,\n",
    "        top_p=1.0,\n",
    "        frequency_penalty=0.0,\n",
    "        presence_penalty=0.0\n",
    "    )\n",
    "    # Extract the sentiment from the response\n",
    "    sentiment = response.choices[0].text.strip()\n",
    "    return sentiment\n",
    "\n",
    "# Apply the function to the reviews column\n",
    "df_new_reviews['sentiment'] = df_new_reviews['review'].apply(classify_review)\n",
    "\n",
    "df_new_reviews.fillna('', inplace=True)\n",
    "\n",
    "# Trim review length to be max 500\n",
    "df_new_reviews['review'] = df_new_reviews['review'].apply(lambda x: x[:500] if isinstance(x, str) and len(x) > 500 else x)"
   ]
  },
  {
   "attachments": {},
   "cell_type": "markdown",
   "metadata": {
    "application/vnd.databricks.v1+cell": {
     "cellMetadata": {
      "byteLimit": 2048000,
      "rowLimit": 10000
     },
     "inputWidgets": {},
     "nuid": "f45f6fa4-5a03-48db-a198-0415475456e7",
     "showTitle": false,
     "tableResultSettingsMap": {},
     "title": ""
    }
   },
   "source": [
    "## Upload Reviews"
   ]
  },
  {
   "cell_type": "code",
   "execution_count": null,
   "metadata": {
    "application/vnd.databricks.v1+cell": {
     "cellMetadata": {
      "byteLimit": 2048000,
      "rowLimit": 10000
     },
     "inputWidgets": {},
     "nuid": "23720763-31f7-427e-a493-ae3d10925479",
     "showTitle": false,
     "tableResultSettingsMap": {},
     "title": ""
    }
   },
   "outputs": [],
   "source": [
    "if len(df_new_reviews) > 1:\n",
    "    # Create a Spark dataframe\n",
    "    spark_df_new_reviews = spark.createDataFrame(df_new_reviews)\n",
    "\n",
    "    # Insert data into database\n",
    "    spark_df_new_reviews.write.format(\"jdbc\").mode(\"append\").option(\"url\", dw_jdbcUrl).option(\"dbtable\", \"dbo.ReviewsApps\").option(\"driver\", \"com.microsoft.sqlserver.jdbc.SQLServerDriver\").save()\n",
    "else:\n",
    "    print(\"df_new_reviews is empty, not creating a Spark DataFrame.\")"
   ]
  },
  {
   "attachments": {},
   "cell_type": "markdown",
   "metadata": {
    "application/vnd.databricks.v1+cell": {
     "cellMetadata": {
      "byteLimit": 2048000,
      "rowLimit": 10000
     },
     "inputWidgets": {},
     "nuid": "4fcd71e8-3c7a-4807-8064-448d4a251d5c",
     "showTitle": false,
     "tableResultSettingsMap": {},
     "title": ""
    }
   },
   "source": [
    "# App Ratings"
   ]
  },
  {
   "cell_type": "code",
   "execution_count": null,
   "metadata": {
    "application/vnd.databricks.v1+cell": {
     "cellMetadata": {
      "byteLimit": 2048000,
      "rowLimit": 10000
     },
     "inputWidgets": {},
     "nuid": "c56c0f11-61bf-4ba7-8410-08763e0c22e2",
     "showTitle": false,
     "tableResultSettingsMap": {},
     "title": ""
    }
   },
   "outputs": [],
   "source": [
    "# Ratings Google Play\n",
    "from google_play_scraper import app\n",
    "\n",
    "Android_appsinfo = pd.DataFrame()\n",
    "\n",
    "for i, app_id in enumerate(Android_apps_names):  \n",
    "    if \".com\" in app_id: \n",
    "        try:\n",
    "            android_ratings_info = app(\n",
    "                        app_id,\n",
    "                        lang = 'es', # defaults to 'en'\n",
    "                        country = countries[i], # defaults to 'us'\n",
    "                    )\n",
    "\n",
    "            android_keys = ['realInstalls', 'score', 'ratings']\n",
    "\n",
    "            android_filtered_dict = {key: value for key, value in android_ratings_info.items() if key in android_keys} \n",
    "            \n",
    "            android_ratings_info = pd.DataFrame(android_filtered_dict, index=[i])\n",
    "            android_ratings_info['Tenant'] = tenant[i]\n",
    "\n",
    "            Android_appsinfo = pd.concat([Android_appsinfo, android_ratings_info])\n",
    "        except:\n",
    "            pass    \n",
    "    else:\n",
    "        pass\n",
    "\n",
    "Android_appsinfo['channel'] = 'Android'\n",
    "Android_appsinfo = Android_appsinfo[['Tenant', 'score', 'ratings', 'realInstalls']]\n",
    "Android_appsinfo.rename(columns={'realInstalls': 'Android_installs', 'score': 'Android_app_score', 'ratings':'Android_ratings'}, inplace=True)"
   ]
  },
  {
   "cell_type": "code",
   "execution_count": null,
   "metadata": {
    "application/vnd.databricks.v1+cell": {
     "cellMetadata": {
      "byteLimit": 2048000,
      "rowLimit": 10000
     },
     "inputWidgets": {},
     "nuid": "2d72f517-155e-45b5-8212-1b73665ae21c",
     "showTitle": false,
     "tableResultSettingsMap": {},
     "title": ""
    }
   },
   "outputs": [],
   "source": [
    "# Ratings iOS\n",
    "iOS_appsinfo = pd.DataFrame()\n",
    "\n",
    "for i, app in enumerate(iOS_apps_names):   \n",
    "    if app != '':\n",
    "        try:\n",
    "            endpoint = \"https://itunes.apple.com/lookup?id=\"\n",
    "            response = requests.get(endpoint + iOS_apps_ids[i])\n",
    "            data = json.loads(response.text)\n",
    "            iOS_ratings_info = data[\"results\"][0]\n",
    "\n",
    "            iOS_keys = ['averageUserRating', 'userRatingCount']\n",
    "            \n",
    "            iOS_filtered_dict = {key: value for key, value in iOS_ratings_info.items() if key in iOS_keys}\n",
    "\n",
    "            iOS_app_info = pd.DataFrame(iOS_filtered_dict, index=[i])\n",
    "            iOS_app_info['Tenant'] = tenant[i]\n",
    "            \n",
    "            iOS_appsinfo = pd.concat([iOS_appsinfo, iOS_app_info])\n",
    "        except:\n",
    "            pass    \n",
    "    else:\n",
    "        pass\n",
    "\n",
    "iOS_appsinfo['channel'] = 'iOS'\n",
    "iOS_appsinfo = iOS_appsinfo[['Tenant', 'averageUserRating', 'userRatingCount']]\n",
    "iOS_appsinfo.rename(columns={'averageUserRating': 'iOS_app_score', 'userRatingCount':'iOS_ratings'}, inplace=True)"
   ]
  },
  {
   "cell_type": "code",
   "execution_count": null,
   "metadata": {
    "application/vnd.databricks.v1+cell": {
     "cellMetadata": {
      "byteLimit": 2048000,
      "rowLimit": 10000
     },
     "inputWidgets": {},
     "nuid": "dc56fdb2-a84e-4711-8bf3-3e7453c36ce9",
     "showTitle": false,
     "tableResultSettingsMap": {},
     "title": ""
    }
   },
   "outputs": [],
   "source": [
    "# Combined Ratings\n",
    "combined_ratings = Android_appsinfo.merge(iOS_appsinfo, on='Tenant')\n",
    "\n",
    "# Fill values with NaN for transformatio\n",
    "combined_ratings = combined_ratings.fillna(np.nan)\n",
    "\n",
    "combined_ratings['Android_app_score'] = round(combined_ratings['Android_app_score'], 2)\n",
    "combined_ratings['iOS_app_score'] = round(combined_ratings['iOS_app_score'], 2)\n",
    "\n",
    "combined_ratings['date'] = pd.to_datetime('today').normalize()"
   ]
  },
  {
   "cell_type": "code",
   "execution_count": null,
   "metadata": {
    "application/vnd.databricks.v1+cell": {
     "cellMetadata": {
      "byteLimit": 2048000,
      "rowLimit": 10000
     },
     "inputWidgets": {},
     "nuid": "e17d9cda-1aaa-4f5a-a075-a335ce3a6955",
     "showTitle": false,
     "tableResultSettingsMap": {},
     "title": ""
    }
   },
   "outputs": [
    {
     "name": "stdout",
     "output_type": "stream",
     "text": [
      "New ratings to add: 64\n"
     ]
    }
   ],
   "source": [
    "# Just keep new values\n",
    "\n",
    "# Ensure both DataFrames are in pandas format\n",
    "ratings_base_file_pd = ratings_base_file.copy()\n",
    "combined_ratings_pd = combined_ratings.copy()\n",
    "\n",
    "# Create a set of tuples (Tenant, date) from the existing ratings in the database\n",
    "existing_records = set(\n",
    "    zip(ratings_base_file_pd['Tenant'], ratings_base_file_pd['date'])\n",
    ")\n",
    "\n",
    "# Filter the combined_ratings DataFrame to include only new records\n",
    "df_new_ratings = combined_ratings_pd[\n",
    "    ~combined_ratings_pd.apply(lambda row: (row['Tenant'], row['date']), axis=1).isin(existing_records)\n",
    "]\n",
    "\n",
    "# Convert to float\n",
    "df_new_ratings['Android_app_score'] = df_new_ratings['Android_app_score'].astype(float).fillna(0)\n",
    "df_new_ratings['iOS_app_score'] = df_new_ratings['iOS_app_score'].astype(float).fillna(0)\n",
    "\n",
    "# Log the results\n",
    "if df_new_ratings.empty:\n",
    "    pass\n",
    "else:\n",
    "    print(f\"New ratings to add: {len(df_new_ratings)}\")"
   ]
  },
  {
   "attachments": {},
   "cell_type": "markdown",
   "metadata": {
    "application/vnd.databricks.v1+cell": {
     "cellMetadata": {
      "byteLimit": 2048000,
      "rowLimit": 10000
     },
     "inputWidgets": {},
     "nuid": "8f509703-3128-4eb3-a591-554e3dc42d85",
     "showTitle": false,
     "tableResultSettingsMap": {},
     "title": ""
    }
   },
   "source": [
    "## Upload Ratings"
   ]
  },
  {
   "cell_type": "code",
   "execution_count": null,
   "metadata": {
    "application/vnd.databricks.v1+cell": {
     "cellMetadata": {
      "byteLimit": 2048000,
      "rowLimit": 10000
     },
     "inputWidgets": {},
     "nuid": "a91ac9cd-4e13-4188-9582-f96b080fcfcc",
     "showTitle": false,
     "tableResultSettingsMap": {},
     "title": ""
    }
   },
   "outputs": [],
   "source": [
    "if len(df_new_ratings) > 1:\n",
    "    # Create a Spark dataframe\n",
    "    spark_df_new_ratings = spark.createDataFrame(df_new_ratings)\n",
    "\n",
    "    # Insert data into database\n",
    "    spark_df_new_ratings.write.format(\"jdbc\").mode(\"append\").option(\"url\", dw_jdbcUrl).option(\"dbtable\", \"dbo.RatingsApps\").option(\"driver\", \"com.microsoft.sqlserver.jdbc.SQLServerDriver\").save()\n",
    "else:\n",
    "    print(\"df_new_ratings is empty, not creating a Spark DataFrame.\")"
   ]
  }
 ],
 "metadata": {
  "application/vnd.databricks.v1+notebook": {
   "computePreferences": null,
   "dashboards": [],
   "environmentMetadata": {
    "base_environment": "",
    "client": "1"
   },
   "language": "python",
   "notebookMetadata": {
    "pythonIndentUnit": 4
   },
   "notebookName": "Reviews and Scores",
   "widgets": {}
  },
  "language_info": {
   "name": "python"
  }
 },
 "nbformat": 4,
 "nbformat_minor": 0
}
